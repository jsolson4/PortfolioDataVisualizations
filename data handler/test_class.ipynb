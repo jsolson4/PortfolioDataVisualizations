{
 "cells": [
  {
   "cell_type": "markdown",
   "id": "42b5089d-7679-4646-bcec-a18e835f3a71",
   "metadata": {},
   "source": [
    "This will be a quick walkthrough of how the data handler could work"
   ]
  },
  {
   "cell_type": "code",
   "execution_count": 4,
   "id": "5059015b-b0ce-474e-b368-26a404b28dfe",
   "metadata": {
    "tags": []
   },
   "outputs": [],
   "source": [
    "from correlationDataHandler import correlationDataHandler"
   ]
  },
  {
   "cell_type": "code",
   "execution_count": 6,
   "id": "c15105f8-8623-49bb-bf22-fad738868375",
   "metadata": {},
   "outputs": [
    {
     "data": {
      "text/plain": [
       "['SSSS',\n",
       " 'GBDC',\n",
       " 'POLY.L',\n",
       " 'SKF.AX',\n",
       " 'PSDN',\n",
       " 'VRNOF',\n",
       " 'LFMD',\n",
       " 'CLRB',\n",
       " 'GLATF',\n",
       " 'URNM',\n",
       " 'AAPL',\n",
       " 'GOOGL',\n",
       " 'CVX']"
      ]
     },
     "execution_count": 6,
     "metadata": {},
     "output_type": "execute_result"
    }
   ],
   "source": [
    "abs# test securities list\n",
    "all_tickers = ['SSSS', 'GBDC', 'POLY.L', 'SKF.AX', 'PSDN', 'VRNOF', 'LFMD', 'CLRB', 'GLATF', 'URNM', 'AAPL', 'GOOGL', 'CVX']\n",
    "ticks = correlationDataHandler(all_tickers)\n",
    "\n",
    "# show the securities\n",
    "ticks.get_securities()"
   ]
  },
  {
   "cell_type": "code",
   "execution_count": 9,
   "id": "d3bb0bd3-09ae-4134-adec-dec3edb336cb",
   "metadata": {},
   "outputs": [
    {
     "name": "stderr",
     "output_type": "stream",
     "text": [
      "POLY.L: No data found, symbol may be delisted\n",
      "SKF.AX: No data found, symbol may be delisted\n",
      "PSDN: No price data found, symbol may be delisted (period=1mo)\n",
      "POLY.L: No data found, symbol may be delisted\n",
      "SKF.AX: No data found, symbol may be delisted\n",
      "PSDN: No price data found, symbol may be delisted (period=3mo)\n",
      "POLY.L: No data found, symbol may be delisted\n",
      "SKF.AX: No data found, symbol may be delisted\n",
      "PSDN: No price data found, symbol may be delisted (period=6mo)\n",
      "POLY.L: No data found, symbol may be delisted\n",
      "SKF.AX: No data found, symbol may be delisted\n",
      "POLY.L: No data found, symbol may be delisted\n",
      "SKF.AX: No data found, symbol may be delisted\n"
     ]
    }
   ],
   "source": [
    "# get datasets of interest\n",
    "df_1mo_links = ticks.get_links(\"1mo\")\n",
    "df_3mo_links = ticks.get_links(\"3mo\")\n",
    "df_6mo_links = ticks.get_links(\"6mo\")\n",
    "df_1y_links = ticks.get_links(\"1y\")\n",
    "df_2y_links = ticks.get_links(\"2y\")\n",
    "\n",
    "df_1mo_nodes = ticks.get_nodes(df_1mo_links)\n",
    "df_1mo_nodes = ticks.get_nodes(df_3mo_links)\n",
    "df_1mo_nodes = ticks.get_nodes(df_6mo_links)\n",
    "df_1mo_nodes = ticks.get_nodes(df_1y_links)\n",
    "df_1mo_nodes = ticks.get_nodes(df_2y_links)"
   ]
  },
  {
   "cell_type": "code",
   "execution_count": 11,
   "id": "a975bbd0-4dd6-4037-b367-9dbd1cb20dc5",
   "metadata": {},
   "outputs": [
    {
     "data": {
      "text/plain": [
       "['SSSS',\n",
       " 'GBDC',\n",
       " 'POLY.L',\n",
       " 'SKF.AX',\n",
       " 'PSDN',\n",
       " 'VRNOF',\n",
       " 'LFMD',\n",
       " 'CLRB',\n",
       " 'GLATF',\n",
       " 'URNM',\n",
       " 'AAPL',\n",
       " 'GOOGL',\n",
       " 'CVX']"
      ]
     },
     "execution_count": 11,
     "metadata": {},
     "output_type": "execute_result"
    }
   ],
   "source": [
    "# look at the current list of securities (could be displayed somewhere on screen as well)\n",
    "ticks.get_securities()"
   ]
  },
  {
   "cell_type": "code",
   "execution_count": 12,
   "id": "fb07b580-0df1-4353-87cb-299cf08684c4",
   "metadata": {},
   "outputs": [
    {
     "data": {
      "text/plain": [
       "['SSSS',\n",
       " 'GBDC',\n",
       " 'POLY.L',\n",
       " 'SKF.AX',\n",
       " 'PSDN',\n",
       " 'VRNOF',\n",
       " 'LFMD',\n",
       " 'CLRB',\n",
       " 'GLATF',\n",
       " 'URNM',\n",
       " 'AAPL',\n",
       " 'GOOGL',\n",
       " 'CVX',\n",
       " 'NKE']"
      ]
     },
     "execution_count": 12,
     "metadata": {},
     "output_type": "execute_result"
    }
   ],
   "source": [
    "# the user wants to add in a security to the list\n",
    "ticks.add_security(\"NKE\")"
   ]
  },
  {
   "cell_type": "code",
   "execution_count": 13,
   "id": "57d9f47f-08f7-459c-92b9-61bdc97184a7",
   "metadata": {},
   "outputs": [
    {
     "data": {
      "text/plain": [
       "['SSSS',\n",
       " 'GBDC',\n",
       " 'POLY.L',\n",
       " 'SKF.AX',\n",
       " 'PSDN',\n",
       " 'VRNOF',\n",
       " 'LFMD',\n",
       " 'CLRB',\n",
       " 'GLATF',\n",
       " 'URNM',\n",
       " 'AAPL',\n",
       " 'GOOGL',\n",
       " 'CVX',\n",
       " 'NKE']"
      ]
     },
     "execution_count": 13,
     "metadata": {},
     "output_type": "execute_result"
    }
   ],
   "source": [
    "# look at the updated list of securities to make sure it's added\n",
    "ticks.get_securities()"
   ]
  },
  {
   "cell_type": "code",
   "execution_count": 15,
   "id": "0dbd3929-6e73-4ee5-a8e1-580a47bf9d7f",
   "metadata": {},
   "outputs": [
    {
     "name": "stdout",
     "output_type": "stream",
     "text": [
      "The Security is already in the current list\n"
     ]
    }
   ],
   "source": [
    "# add another that is already in the list to check if it adds it to the list\n",
    "ticks.add_security(\"AAPL\")"
   ]
  },
  {
   "cell_type": "code",
   "execution_count": 16,
   "id": "0deed796-506d-4533-9840-51fa15d60f29",
   "metadata": {},
   "outputs": [
    {
     "data": {
      "text/plain": [
       "['SSSS',\n",
       " 'GBDC',\n",
       " 'SKF.AX',\n",
       " 'PSDN',\n",
       " 'VRNOF',\n",
       " 'LFMD',\n",
       " 'CLRB',\n",
       " 'GLATF',\n",
       " 'URNM',\n",
       " 'AAPL',\n",
       " 'GOOGL',\n",
       " 'CVX',\n",
       " 'NKE']"
      ]
     },
     "execution_count": 16,
     "metadata": {},
     "output_type": "execute_result"
    }
   ],
   "source": [
    "# remove a security\n",
    "ticks.remove_security(\"POLY.L\")"
   ]
  },
  {
   "cell_type": "code",
   "execution_count": 17,
   "id": "37e67c09-e4b1-44db-b0aa-b33dac9e29fc",
   "metadata": {},
   "outputs": [
    {
     "name": "stderr",
     "output_type": "stream",
     "text": [
      "SKF.AX: No data found, symbol may be delisted\n",
      "PSDN: No price data found, symbol may be delisted (period=1mo)\n",
      "SKF.AX: No data found, symbol may be delisted\n",
      "PSDN: No price data found, symbol may be delisted (period=3mo)\n",
      "SKF.AX: No data found, symbol may be delisted\n",
      "PSDN: No price data found, symbol may be delisted (period=6mo)\n",
      "SKF.AX: No data found, symbol may be delisted\n",
      "SKF.AX: No data found, symbol may be delisted\n"
     ]
    }
   ],
   "source": [
    "# recalculate correlations based on the changes \n",
    "df_1mo_links = ticks.get_links(\"1mo\")\n",
    "df_3mo_links = ticks.get_links(\"3mo\")\n",
    "df_6mo_links = ticks.get_links(\"6mo\")\n",
    "df_1y_links = ticks.get_links(\"1y\")\n",
    "df_2y_links = ticks.get_links(\"2y\")\n",
    "\n",
    "df_1mo_nodes = ticks.get_nodes(df_1mo_links)\n",
    "df_1mo_nodes = ticks.get_nodes(df_3mo_links)\n",
    "df_1mo_nodes = ticks.get_nodes(df_6mo_links)\n",
    "df_1mo_nodes = ticks.get_nodes(df_1y_links)\n",
    "df_1mo_nodes = ticks.get_nodes(df_2y_links)"
   ]
  },
  {
   "cell_type": "code",
   "execution_count": 18,
   "id": "4f41c921-b464-40f1-acf9-bdddd6f39a16",
   "metadata": {},
   "outputs": [
    {
     "data": {
      "text/html": [
       "<div>\n",
       "<style scoped>\n",
       "    .dataframe tbody tr th:only-of-type {\n",
       "        vertical-align: middle;\n",
       "    }\n",
       "\n",
       "    .dataframe tbody tr th {\n",
       "        vertical-align: top;\n",
       "    }\n",
       "\n",
       "    .dataframe thead th {\n",
       "        text-align: right;\n",
       "    }\n",
       "</style>\n",
       "<table border=\"1\" class=\"dataframe\">\n",
       "  <thead>\n",
       "    <tr style=\"text-align: right;\">\n",
       "      <th></th>\n",
       "      <th>name</th>\n",
       "      <th>Correlation</th>\n",
       "    </tr>\n",
       "  </thead>\n",
       "  <tbody>\n",
       "    <tr>\n",
       "      <th>0</th>\n",
       "      <td>AAPL</td>\n",
       "      <td>0.093</td>\n",
       "    </tr>\n",
       "    <tr>\n",
       "      <th>1</th>\n",
       "      <td>CLRB</td>\n",
       "      <td>0.277</td>\n",
       "    </tr>\n",
       "    <tr>\n",
       "      <th>2</th>\n",
       "      <td>CVX</td>\n",
       "      <td>-0.134</td>\n",
       "    </tr>\n",
       "    <tr>\n",
       "      <th>3</th>\n",
       "      <td>GBDC</td>\n",
       "      <td>0.200</td>\n",
       "    </tr>\n",
       "    <tr>\n",
       "      <th>4</th>\n",
       "      <td>GLATF</td>\n",
       "      <td>-0.069</td>\n",
       "    </tr>\n",
       "    <tr>\n",
       "      <th>5</th>\n",
       "      <td>GOOGL</td>\n",
       "      <td>0.215</td>\n",
       "    </tr>\n",
       "    <tr>\n",
       "      <th>6</th>\n",
       "      <td>LFMD</td>\n",
       "      <td>0.234</td>\n",
       "    </tr>\n",
       "    <tr>\n",
       "      <th>7</th>\n",
       "      <td>NKE</td>\n",
       "      <td>-0.287</td>\n",
       "    </tr>\n",
       "    <tr>\n",
       "      <th>8</th>\n",
       "      <td>PSDN</td>\n",
       "      <td>0.121</td>\n",
       "    </tr>\n",
       "    <tr>\n",
       "      <th>9</th>\n",
       "      <td>SSSS</td>\n",
       "      <td>0.132</td>\n",
       "    </tr>\n",
       "    <tr>\n",
       "      <th>10</th>\n",
       "      <td>URNM</td>\n",
       "      <td>0.293</td>\n",
       "    </tr>\n",
       "    <tr>\n",
       "      <th>11</th>\n",
       "      <td>VRNOF</td>\n",
       "      <td>0.271</td>\n",
       "    </tr>\n",
       "  </tbody>\n",
       "</table>\n",
       "</div>"
      ],
      "text/plain": [
       "     name  Correlation\n",
       "0    AAPL        0.093\n",
       "1    CLRB        0.277\n",
       "2     CVX       -0.134\n",
       "3    GBDC        0.200\n",
       "4   GLATF       -0.069\n",
       "5   GOOGL        0.215\n",
       "6    LFMD        0.234\n",
       "7     NKE       -0.287\n",
       "8    PSDN        0.121\n",
       "9    SSSS        0.132\n",
       "10   URNM        0.293\n",
       "11  VRNOF        0.271"
      ]
     },
     "execution_count": 18,
     "metadata": {},
     "output_type": "execute_result"
    }
   ],
   "source": [
    "df_1mo_nodes"
   ]
  }
 ],
 "metadata": {
  "kernelspec": {
   "display_name": "Python 3 (ipykernel)",
   "language": "python",
   "name": "python3"
  },
  "language_info": {
   "codemirror_mode": {
    "name": "ipython",
    "version": 3
   },
   "file_extension": ".py",
   "mimetype": "text/x-python",
   "name": "python",
   "nbconvert_exporter": "python",
   "pygments_lexer": "ipython3",
   "version": "3.9.6"
  }
 },
 "nbformat": 4,
 "nbformat_minor": 5
}
